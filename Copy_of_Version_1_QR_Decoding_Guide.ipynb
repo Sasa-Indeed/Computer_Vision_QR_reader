{
  "cells": [
    {
      "cell_type": "markdown",
      "metadata": {
        "id": "9TTdTivNUBlp"
      },
      "source": [
        "\n",
        "1.   Reed-solomon ec for test cases 7, 10, 13, 15\n",
        "2.   Differentiate between v1 and v3 without depending on module size\n",
        "3.   Identify that test case 2, 6, 14 are warped and straighten them into a square\n",
        "4.   Decode v3 for test case 15, 16\n",
        "5.   mighty finger has alphanumeric encoding type don't know if i should invest time in alterring to fit it\n",
        "\n",
        "\n",
        "\n",
        "\n"
      ]
    },
    {
      "cell_type": "code",
      "execution_count": null,
      "metadata": {
        "id": "fxUgLK_uYEoH",
        "ExecuteTime": {
          "end_time": "2024-05-05T03:47:34.159710800Z",
          "start_time": "2024-05-05T03:47:34.080090800Z"
        }
      },
      "outputs": [],
      "source": [
        "import cv2\n",
        "import numpy as np\n",
        "import matplotlib.pyplot as plt\n",
        "import math"
      ]
    },
    {
      "cell_type": "code",
      "execution_count": null,
      "metadata": {
        "ExecuteTime": {
          "end_time": "2024-05-05T03:47:34.305388900Z",
          "start_time": "2024-05-05T03:47:34.091202100Z"
        },
        "id": "fOjFvxLy70gs"
      },
      "outputs": [],
      "source": [
        "def calculate_shift_left(image):\n",
        "    counts_until_first_black_pixel = []\n",
        "    current_counter = 0\n",
        "    index = 0\n",
        "    for row in image:\n",
        "        while  index < len(row) and row[index] != 0:\n",
        "            current_counter += 1\n",
        "            index += 1\n",
        "        index = 0\n",
        "        if current_counter == len(row):\n",
        "            continue\n",
        "\n",
        "        else:\n",
        "            counts_until_first_black_pixel.append(current_counter)\n",
        "\n",
        "        current_counter = 0\n",
        "    return counts_until_first_black_pixel\n",
        "\n",
        "def calculate_shift_up(image):\n",
        "    counts_until_first_black_pixel = []\n",
        "    current_counter = 0\n",
        "    index = 0\n",
        "    for col in image.T:\n",
        "        while  index < len(col) and col[index] != 0:\n",
        "            current_counter += 1\n",
        "            index += 1\n",
        "        index = 0\n",
        "        if current_counter == len(col):\n",
        "            continue\n",
        "\n",
        "        else:\n",
        "            counts_until_first_black_pixel.append(current_counter)\n",
        "\n",
        "        current_counter = 0\n",
        "    return counts_until_first_black_pixel\n",
        "\n",
        "def calculate_shift_right(image):\n",
        "    counts_until_first_black_pixel = []\n",
        "    current_counter = 0\n",
        "    index = image.shape[1] - 1\n",
        "    for row in image:\n",
        "        while  index >= 0 and row[index] != 0:\n",
        "            current_counter += 1\n",
        "            index -= 1\n",
        "        index = image.shape[1] - 1\n",
        "        if current_counter == len(row):\n",
        "            continue\n",
        "\n",
        "        else:\n",
        "            counts_until_first_black_pixel.append(current_counter)\n",
        "\n",
        "        current_counter = 0\n",
        "    return counts_until_first_black_pixel\n",
        "\n",
        "def calculate_shift_down(image):\n",
        "    counts_until_first_black_pixel = []\n",
        "    current_counter = 0\n",
        "    index = image.shape[0] - 1\n",
        "    for col in image.T:\n",
        "        while  index >= 0 and col[index] != 0:\n",
        "            current_counter += 1\n",
        "            index -= 1\n",
        "        index = image.shape[1] - 1\n",
        "        if current_counter == len(col):\n",
        "            continue\n",
        "\n",
        "        else:\n",
        "            counts_until_first_black_pixel.append(current_counter)\n",
        "\n",
        "        current_counter = 0\n",
        "    return counts_until_first_black_pixel\n",
        "\n",
        "\n",
        "def pad_with(vector, pad_width, iaxis, kwargs):\n",
        "    pad_value = kwargs.get('padder', 0)\n",
        "    vector[:pad_width[0]] = pad_value\n",
        "    if pad_width[1] != 0:\n",
        "        vector[-pad_width[1]:] = pad_value\n",
        "\n",
        "def even_quiet_zone(image):\n",
        "    left = np.min(calculate_shift_left(image))\n",
        "    right = np.min(calculate_shift_right(image))\n",
        "    up = np.min(calculate_shift_up(image))\n",
        "    down = np.min(calculate_shift_down(image))\n",
        "\n",
        "    maximum_width = max([left, right, up, down])\n",
        "\n",
        "    top_pad = maximum_width - up\n",
        "    bottom_pad = maximum_width - down\n",
        "    left_pad = maximum_width - left\n",
        "    right_pad = maximum_width - right\n",
        "\n",
        "    return np.pad(image, ((top_pad, bottom_pad), (left_pad, right_pad)), pad_with, padder=255)"
      ]
    },
    {
      "cell_type": "code",
      "execution_count": null,
      "metadata": {
        "ExecuteTime": {
          "end_time": "2024-05-05T03:47:34.306387800Z",
          "start_time": "2024-05-05T03:47:34.124095500Z"
        },
        "id": "wJRFMieZ70gv"
      },
      "outputs": [],
      "source": [
        "def check_pattern(cells):\n",
        "    \"\"\"\n",
        "    Check if the mean value of each cell in cells is within a tolerance of the corresponding value in the pattern.\n",
        "    \"\"\"\n",
        "    pattern = [0, 255, 0, 0, 0, 255, 0]  # 1:1:3:1:1 pattern\n",
        "    tolerance = 100\n",
        "    results = [abs(int(np.mean(cell)) - pat) <= tolerance for cell, pat in zip(cells, pattern)]\n",
        "    return all(results)\n",
        "\n",
        "def rotate_image(image, degrees):\n",
        "    return np.rot90(image, degrees // 90)\n",
        "\n",
        "def check_valid_format(og, qr_cells, grid_cells_num, grid_cell_size):\n",
        "    qr_cells_numeric = np.ndarray((grid_cells_num, grid_cells_num), dtype=np.uint8)\n",
        "    for i, row in enumerate(qr_cells):\n",
        "        for j, cell in enumerate(row):\n",
        "            qr_cells_numeric[i, j] = (np.median(cell) // 255)\n",
        "    ecl = [int(not(c)) for c in qr_cells_numeric[19:21, 8]]\n",
        "    mask = [int(not(c)) for c in qr_cells_numeric[18:15:-1, 8]]\n",
        "    fec = np.concatenate(([qr_cells_numeric[15, 8]], [qr_cells_numeric[14, 8]], qr_cells_numeric[8, 13:21][::-1]))  # Reverse to get from col 20 to col 13\n",
        "    fec = [int(not(c)) for c in fec]\n",
        "\n",
        "    ecl_check = [int(not(c)) for c in qr_cells_numeric[8, :2]]\n",
        "    mask_check = [int(not(c)) for c in qr_cells_numeric[8, 2:5]]\n",
        "    fec_check = np.concatenate(([qr_cells_numeric[8, 5]], [qr_cells_numeric[8, 7]], qr_cells_numeric[7:9,8][::-1], qr_cells_numeric[0:6,8][::-1]))\n",
        "    fec_check = [int(not(c)) for c in fec_check]\n",
        "\n",
        "    print(ecl + mask + fec == ecl_check + mask_check + fec_check)\n",
        "    if not (ecl + mask + fec == ecl_check + mask_check + fec_check):\n",
        "        revert = rotate_image(qr_cells, 270)\n",
        "        return cv2.flip(og, 1).reshape((grid_cells_num,\n",
        "    grid_cell_size,\n",
        "    grid_cells_num,\n",
        "    grid_cell_size)).swapaxes(1, 2)\n",
        "    else:\n",
        "        return qr_cells\n",
        "\n",
        "def correct_orientation(og, qr_cells, grid_cells_num, grid_cell_size):\n",
        "    \"\"\"\n",
        "    Correct the orientation of the QR code by checking the patterns in the corners and rotating if necessary.\n",
        "    \"\"\"\n",
        "    # Check patterns in the corners\n",
        "    bottom_right = qr_cells[grid_cells_num - 4, -7:], qr_cells[-7:, grid_cells_num-4]\n",
        "    top_right = qr_cells[3, -7:], qr_cells[:7, grid_cells_num-4]\n",
        "    bottom_left = qr_cells[grid_cells_num-4, :7], qr_cells[-7:, 3]\n",
        "\n",
        "\n",
        "    # If the bottom right corner does not match the pattern, the QR code is in the correct orientation\n",
        "    if not any(map(check_pattern, bottom_right)):\n",
        "        return qr_cells\n",
        "\n",
        "    # If all corners match the pattern, rotate 180 degrees\n",
        "    if all(map(check_pattern, top_right + bottom_left)):\n",
        "        return rotate_image(qr_cells, 180)\n",
        "\n",
        "    # If the top right and bottom right corners match the pattern, rotate 270 degrees\n",
        "    if all(map(check_pattern, top_right + bottom_right)):\n",
        "        rotated = rotate_image(qr_cells, 90)\n",
        "        return check_valid_format(og, rotated, grid_cells_num, grid_cell_size)\n",
        "\n",
        "\n",
        "    # If the bottom left and bottom right corners match the pattern, rotate 90 degrees\n",
        "    if all(map(check_pattern, bottom_left + bottom_right)):\n",
        "        return rotate_image(qr_cells, 270)"
      ]
    },
    {
      "cell_type": "code",
      "execution_count": null,
      "metadata": {
        "colab": {
          "base_uri": "https://localhost:8080/",
          "height": 444
        },
        "id": "BCBUacpyaC-L",
        "outputId": "d80ff160-295a-4721-c205-09e20642e995",
        "ExecuteTime": {
          "end_time": "2024-05-05T03:47:34.310401300Z",
          "start_time": "2024-05-05T03:47:34.135200300Z"
        }
      },
      "outputs": [
        {
          "data": {
            "text/plain": "<Figure size 500x500 with 1 Axes>",
            "image/png": "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"
          },
          "metadata": {},
          "output_type": "display_data"
        }
      ],
      "source": [
        "img = cv2.imread(\"./preprocessed_images/output_18.png\", cv2.IMREAD_GRAYSCALE)\n",
        "_, img = cv2.threshold(img, 100, 255, cv2.THRESH_BINARY)\n",
        "fig = plt.figure(figsize=(5, 5));\n",
        "plt.xticks([], []);\n",
        "plt.yticks([], []);\n",
        "plt.title('Example QR code')\n",
        "plt.imshow(img, cmap='gray');"
      ]
    },
    {
      "cell_type": "code",
      "execution_count": null,
      "metadata": {
        "colab": {
          "base_uri": "https://localhost:8080/"
        },
        "id": "jJmNodoCIdVB",
        "outputId": "0965f47c-9118-4c07-a264-8ff82aee90f0",
        "ExecuteTime": {
          "end_time": "2024-05-05T03:47:34.450417200Z",
          "start_time": "2024-05-05T03:47:34.259388200Z"
        }
      },
      "outputs": [
        {
          "name": "stdout",
          "output_type": "stream",
          "text": [
            "46 1004 46 1004\n"
          ]
        }
      ],
      "source": [
        "grid_cells_num = 21\n",
        "grid_cell_size = 50\n",
        "\n",
        "# gotta find a new way to get the qr without the quiet zone\n",
        "start_row = -1\n",
        "start_col = -1\n",
        "end_row = -1\n",
        "end_col = -1\n",
        "\n",
        "for row_index, row in enumerate(img):\n",
        "    for pixel in row:\n",
        "        if pixel != 255:\n",
        "            start_row = row_index\n",
        "            break\n",
        "    if start_row != -1:\n",
        "        break\n",
        "\n",
        "for row_index, row in enumerate(img[::-1]):\n",
        "    for pixel in row:\n",
        "        if pixel != 255:\n",
        "            end_row = img.shape[0] - row_index\n",
        "            break\n",
        "    if end_row != -1:\n",
        "        break\n",
        "\n",
        "for col_index, col in enumerate(cv2.transpose(img)):\n",
        "    for pixel in col:\n",
        "        if pixel != 255:\n",
        "            start_col = col_index\n",
        "            break\n",
        "    if start_col != -1:\n",
        "        break\n",
        "\n",
        "\n",
        "for col_index, col in enumerate(cv2.transpose(img)[::-1]):\n",
        "    for pixel in col:\n",
        "        if pixel != 255:\n",
        "            end_col = img.shape[1] - col_index\n",
        "            break\n",
        "    if end_col != -1:\n",
        "        break\n",
        "\n",
        "\n",
        "# Align the start and end rows and columns\n",
        "start_row, start_col = max(start_row, start_col), max(start_row, start_col)\n",
        "end_row, end_col = max(end_row, end_col), max(end_row, end_col)\n",
        "\n",
        "print(start_row, end_row, start_col, end_col)\n",
        "# 44 968 44 968"
      ]
    },
    {
      "cell_type": "code",
      "execution_count": null,
      "metadata": {
        "colab": {
          "base_uri": "https://localhost:8080/",
          "height": 529
        },
        "id": "tuIclWxj8SFf",
        "outputId": "061edd69-2a12-4e05-9674-af96a328e0cb",
        "ExecuteTime": {
          "end_time": "2024-05-05T03:47:34.565930Z",
          "start_time": "2024-05-05T03:47:34.451419100Z"
        }
      },
      "outputs": [
        {
          "data": {
            "text/plain": "<Figure size 500x500 with 1 Axes>",
            "image/png": "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"
          },
          "metadata": {},
          "output_type": "display_data"
        }
      ],
      "source": [
        "qr_no_quiet_zone = img[start_row: end_row, start_col: end_col]\n",
        "qr_no_quiet_zone = cv2.resize(qr_no_quiet_zone, (grid_cells_num * grid_cell_size, grid_cells_num * grid_cell_size), interpolation=cv2.INTER_AREA)\n",
        "fig = plt.figure(figsize=(5, 5));\n",
        "plt.xticks([], []);\n",
        "plt.yticks([], []);\n",
        "fig.get_axes()[0].spines[:].set_color('red');\n",
        "fig.get_axes()[0].spines[:].set_linewidth(40);\n",
        "fig.get_axes()[0].spines[:].set_position((\"outward\", 20))\n",
        "plt.title('QR code without quiet zone', y = 1.15, color='red');\n",
        "plt.imshow(qr_no_quiet_zone, cmap='gray');"
      ]
    },
    {
      "cell_type": "code",
      "execution_count": null,
      "metadata": {
        "colab": {
          "base_uri": "https://localhost:8080/"
        },
        "id": "xaYxuP80Pk8m",
        "outputId": "a1d32355-a3b7-4a88-f981-13da8bef6fa7",
        "ExecuteTime": {
          "end_time": "2024-05-05T03:47:34.576930500Z",
          "start_time": "2024-05-05T03:47:34.558929300Z"
        }
      },
      "outputs": [
        {
          "name": "stdout",
          "output_type": "stream",
          "text": [
            "(21, 21, 50, 50)\n"
          ]
        }
      ],
      "source": [
        "# ...into grid cells\n",
        "qr_cells = qr_no_quiet_zone.reshape((\n",
        "    grid_cells_num,\n",
        "    grid_cell_size,\n",
        "    grid_cells_num,\n",
        "    grid_cell_size,\n",
        ")).swapaxes(1, 2)\n",
        "print(qr_cells.shape)"
      ]
    },
    {
      "cell_type": "code",
      "execution_count": null,
      "metadata": {
        "id": "rdnk5RhsPOug",
        "ExecuteTime": {
          "end_time": "2024-05-05T03:47:34.617929900Z",
          "start_time": "2024-05-05T03:47:34.576930500Z"
        }
      },
      "outputs": [],
      "source": [
        "corrected_qr = correct_orientation(qr_no_quiet_zone, qr_cells, grid_cells_num, grid_cell_size)"
      ]
    },
    {
      "cell_type": "code",
      "execution_count": null,
      "metadata": {
        "colab": {
          "base_uri": "https://localhost:8080/",
          "height": 422
        },
        "id": "2-ZXn5NoRTTT",
        "outputId": "64344f96-1460-4c15-9daf-a6d75573f29f",
        "ExecuteTime": {
          "end_time": "2024-05-05T03:47:39.320402800Z",
          "start_time": "2024-05-05T03:47:34.591930Z"
        }
      },
      "outputs": [
        {
          "data": {
            "text/plain": "<Figure size 500x500 with 441 Axes>",
            "image/png": "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"
          },
          "metadata": {},
          "output_type": "display_data"
        }
      ],
      "source": [
        "_, axes = plt.subplots(grid_cells_num, grid_cells_num, figsize=(5, 5))\n",
        "for i, row in enumerate(axes):\n",
        "    for j, col in enumerate(row):\n",
        "        col.imshow(corrected_qr[i][j], cmap=\"gray\", vmin=0, vmax=255)\n",
        "        col.get_xaxis().set_visible(False)\n",
        "        col.get_yaxis().set_visible(False)\n",
        "        col.spines[:].set_color('red')"
      ]
    },
    {
      "cell_type": "code",
      "execution_count": null,
      "metadata": {
        "colab": {
          "base_uri": "https://localhost:8080/"
        },
        "id": "6yyfDhQHW8Jz",
        "outputId": "f4e2d93e-70b5-422d-9da4-740d7c0df4b2",
        "ExecuteTime": {
          "end_time": "2024-05-05T03:47:39.330224400Z",
          "start_time": "2024-05-05T03:47:39.316018900Z"
        }
      },
      "outputs": [
        {
          "name": "stdout",
          "output_type": "stream",
          "text": [
            "[[0 0 0 0 0 0 0 1 0 0 1 1 0 1 0 0 0 0 0 0 0]\n",
            " [0 1 1 1 1 1 0 1 1 0 0 0 0 1 0 1 1 1 1 1 0]\n",
            " [0 1 0 0 0 1 0 1 1 1 0 0 1 1 0 1 0 0 0 1 0]\n",
            " [0 1 0 0 0 1 0 1 1 0 0 0 0 1 0 1 0 0 0 1 0]\n",
            " [0 1 0 0 0 1 0 1 1 1 0 0 1 1 0 1 0 0 0 1 0]\n",
            " [0 1 1 1 1 1 0 1 1 0 0 0 0 1 0 1 1 1 1 1 0]\n",
            " [0 0 0 0 0 0 0 1 0 1 0 1 0 1 0 0 0 0 0 0 0]\n",
            " [1 1 1 1 1 1 1 1 0 1 1 1 0 1 1 1 1 1 1 1 1]\n",
            " [0 0 1 0 0 1 0 1 1 0 0 0 1 1 0 1 1 1 1 1 0]\n",
            " [1 1 1 0 0 0 1 0 1 0 1 0 0 1 1 0 0 1 0 0 1]\n",
            " [0 1 0 0 0 1 0 0 0 1 1 1 0 1 1 1 1 1 0 0 0]\n",
            " [1 0 0 0 0 0 1 1 1 0 0 1 1 0 1 0 0 1 0 0 1]\n",
            " [0 0 1 0 1 1 0 1 1 1 1 1 1 0 0 0 0 0 1 0 0]\n",
            " [1 1 1 1 1 1 1 1 0 1 0 1 1 0 0 1 1 1 0 1 1]\n",
            " [0 0 0 0 0 0 0 1 1 1 0 1 0 0 1 1 0 0 0 0 1]\n",
            " [0 1 1 1 1 1 0 1 1 0 0 1 0 0 0 0 0 0 0 0 0]\n",
            " [0 1 0 0 0 1 0 1 0 0 1 0 1 0 0 0 1 1 1 1 0]\n",
            " [0 1 0 0 0 1 0 1 0 1 1 1 0 0 1 0 0 0 1 0 1]\n",
            " [0 1 0 0 0 1 0 1 1 1 1 1 0 1 1 1 0 0 1 0 0]\n",
            " [0 1 1 1 1 1 0 1 0 0 0 0 1 1 0 0 1 1 0 0 0]\n",
            " [0 0 0 0 0 0 0 1 0 0 1 1 0 1 1 0 0 1 1 1 1]]\n"
          ]
        }
      ],
      "source": [
        "qr_cells_numeric = np.ndarray((grid_cells_num, grid_cells_num), dtype=np.uint8)\n",
        "for i, row in enumerate(corrected_qr):\n",
        "    for j, cell in enumerate(row):\n",
        "        qr_cells_numeric[i, j] = (np.median(cell) // 255)\n",
        "\n",
        "print(qr_cells_numeric)"
      ]
    },
    {
      "cell_type": "markdown",
      "metadata": {
        "id": "8smktSlIaOQo"
      },
      "source": [
        "## Information extraction\n",
        "\n",
        "![Meaning of format information.](https://upload.wikimedia.org/wikipedia/commons/thumb/3/3b/QR_Format_Information.svg/640px-QR_Format_Information.svg.png)\n",
        "> *Meaning of format information.*"
      ]
    },
    {
      "cell_type": "markdown",
      "metadata": {
        "id": "2aqZ9Ym6eXcp"
      },
      "source": [
        "### Error correction level"
      ]
    },
    {
      "cell_type": "code",
      "execution_count": null,
      "metadata": {
        "colab": {
          "base_uri": "https://localhost:8080/"
        },
        "id": "3OQ3XYkQeW93",
        "outputId": "6d1caa40-b622-4f8a-ee03-58a94520c2f4",
        "ExecuteTime": {
          "end_time": "2024-05-05T03:47:39.368580800Z",
          "start_time": "2024-05-05T03:47:39.330224400Z"
        }
      },
      "outputs": [
        {
          "data": {
            "text/plain": "array([0, 0], dtype=uint8)"
          },
          "execution_count": 417,
          "metadata": {},
          "output_type": "execute_result"
        }
      ],
      "source": [
        "# We want row #8\n",
        "# qr_cells_numeric[8]\n",
        "qr_cells_numeric[19:21, 8]"
      ]
    },
    "id": "BCBUacpyaC-L",
    "outputId": "d80ff160-295a-4721-c205-09e20642e995",
    "ExecuteTime": {
     "end_time": "2024-05-05T03:47:34.310401300Z",
     "start_time": "2024-05-05T03:47:34.135200300Z"
    }
   },
   "outputs": [
    {
      "cell_type": "code",
      "execution_count": null,
      "metadata": {
        "colab": {
          "base_uri": "https://localhost:8080/"
        },
        "id": "DftQienjiFdh",
        "outputId": "3e1adc35-499f-4da9-a0e0-89fd50e69442",
        "ExecuteTime": {
          "end_time": "2024-05-05T03:47:39.383580900Z",
          "start_time": "2024-05-05T03:47:39.362582100Z"
        }
      },
      "outputs": [
        {
          "name": "stdout",
          "output_type": "stream",
          "text": [
            "[1, 1]\n"
          ]
        }
      ],
      "source": [
        "# The last two bits determine the error correction level\n",
        "# Level L (Low)         [11]\t7%  of data bytes can be restored.\n",
        "# Level M (Medium)      [10]\t15% of data bytes can be restored.\n",
        "# Level Q (Quartile)    [01]\t25% of data bytes can be restored.\n",
        "# Level H (High)        [00]\t30% of data bytes can be restored.\n",
        "ecl = [int(not(c)) for c in qr_cells_numeric[19:21, 8]]  # We'll read the ecl from the bottom locator instead\n",
        "# Why \"not\"? Because the standard uses '1's for black and '0's for white\n",
        "#\n",
        "# \"A dark module is a binary one and a light module is a binary zero.\"\n",
        "#  - ISO/IEC 18004:2000(E)\n",
        "#\n",
        "# In image processing, we use them the other way.. Hence the inversion\n",
        "print(ecl)\n"
      ]
    },
    "id": "jJmNodoCIdVB",
    "outputId": "0965f47c-9118-4c07-a264-8ff82aee90f0",
    "ExecuteTime": {
     "end_time": "2024-05-05T03:47:34.450417200Z",
     "start_time": "2024-05-05T03:47:34.259388200Z"
    }
   },
   "outputs": [
    {
     "name": "stdout",
     "output_type": "stream",
     "text": [
      "46 1004 46 1004\n"
     ]
    }
   ],
   "source": [
    "grid_cells_num = 21\n",
    "grid_cell_size = 50\n",
    "\n",
    "# gotta find a new way to get the qr without the quiet zone\n",
    "start_row = -1\n",
    "start_col = -1\n",
    "end_row = -1\n",
    "end_col = -1\n",
    "\n",
    "for row_index, row in enumerate(img):\n",
    "    for pixel in row:\n",
    "        if pixel != 255:\n",
    "            start_row = row_index\n",
    "            break\n",
    "    if start_row != -1:\n",
    "        break\n",
    "\n",
    "for row_index, row in enumerate(img[::-1]):\n",
    "    for pixel in row:\n",
    "        if pixel != 255:\n",
    "            end_row = img.shape[0] - row_index\n",
    "            break\n",
    "    if end_row != -1:\n",
    "        break\n",
    "\n",
    "for col_index, col in enumerate(cv2.transpose(img)):\n",
    "    for pixel in col:\n",
    "        if pixel != 255:\n",
    "            start_col = col_index\n",
    "            break\n",
    "    if start_col != -1:\n",
    "        break\n",
    "\n",
    "\n",
    "for col_index, col in enumerate(cv2.transpose(img)[::-1]):\n",
    "    for pixel in col:\n",
    "        if pixel != 255:\n",
    "            end_col = img.shape[1] - col_index\n",
    "            break\n",
    "    if end_col != -1:\n",
    "        break\n",
    "\n",
    "\n",
    "# Align the start and end rows and columns\n",
    "start_row, start_col = max(start_row, start_col), max(start_row, start_col)\n",
    "end_row, end_col = max(end_row, end_col), max(end_row, end_col)\n",
    "\n",
    "# Ensure the difference between the start and end is divisible by 21\n",
    "diff_row = end_row - start_row\n",
    "diff_col = end_col - start_col\n",
    "\n",
    "print(start_row, end_row, start_col, end_col)\n",
    "# 44 968 44 968"
   ]
  },
  {
   "cell_type": "code",
   "execution_count": 412,
   "metadata": {
    "colab": {
     "base_uri": "https://localhost:8080/",
     "height": 529
    },
    "id": "tuIclWxj8SFf",
    "outputId": "061edd69-2a12-4e05-9674-af96a328e0cb",
    "ExecuteTime": {
     "end_time": "2024-05-05T03:47:34.565930Z",
     "start_time": "2024-05-05T03:47:34.451419100Z"
    }
   },
   "outputs": [
    {
      "cell_type": "code",
      "execution_count": null,
      "metadata": {
        "colab": {
          "base_uri": "https://localhost:8080/"
        },
        "id": "Km07iIWxg-gI",
        "outputId": "a8987460-6171-4329-8f5d-a66725bc6636",
        "ExecuteTime": {
          "end_time": "2024-05-05T03:47:39.427187300Z",
          "start_time": "2024-05-05T03:47:39.378601Z"
        }
      },
      "outputs": [
        {
          "name": "stdout",
          "output_type": "stream",
          "text": [
            "011\n"
          ]
        }
      ],
      "source": [
        "# Dictionary of all masks and their equivalent formulae\n",
        "MASKS = {\n",
        "    \"000\": lambda i, j: (i * j) % 2 + (i * j) % 3 == 0,\n",
        "    \"001\": lambda i, j: (i / 2 + j / 3) % 2 == 0,\n",
        "    \"010\": lambda i, j: ((i * j) % 3 + i + j) % 2 == 0,\n",
        "    \"011\": lambda i, j: ((i * j) % 3 + i * j) % 2 == 0,\n",
        "    \"100\": lambda i, j: i % 2 == 0,\n",
        "    \"101\": lambda i, j: (i + j) % 2 == 0,\n",
        "    \"110\": lambda i, j: (i + j) % 3 == 0,\n",
        "    \"111\": lambda i, j: j % 3 == 0,\n",
        "}\n",
        "\n",
        "# Same row as above, the three cells after the ecl cells (converted to a string)\n",
        "# We'll read the mask pattern from the three bits before the ecl in col 8\n",
        "mask = [int(not(c)) for c in qr_cells_numeric[18:15:-1, 8]]\n",
        "mask_str = ''.join([str(c) for c in mask])\n",
        "print(mask_str)"
      ]
    },
    "id": "xaYxuP80Pk8m",
    "outputId": "a1d32355-a3b7-4a88-f981-13da8bef6fa7",
    "ExecuteTime": {
     "end_time": "2024-05-05T03:47:34.576930500Z",
     "start_time": "2024-05-05T03:47:34.558929300Z"
    }
   },
   "outputs": [
    {
     "name": "stdout",
     "output_type": "stream",
     "text": [
      "(21, 21, 50, 50)\n"
     ]
    }
   ],
   "source": [
    "# ...into grid cells\n",
    "qr_cells = qr_no_quiet_zone.reshape((\n",
    "    grid_cells_num,\n",
    "    grid_cell_size,\n",
    "    grid_cells_num,\n",
    "    grid_cell_size,\n",
    ")).swapaxes(1, 2)\n",
    "print(qr_cells.shape)"
   ]
  },
  {
   "cell_type": "code",
   "execution_count": 414,
   "metadata": {
    "colab": {
     "base_uri": "https://localhost:8080/"
    },
    {
      "cell_type": "code",
      "execution_count": null,
      "metadata": {
        "colab": {
          "base_uri": "https://localhost:8080/"
        },
        "id": "d1uHpA5oXXeN",
        "outputId": "7c3ee987-9ff6-4321-c659-93498dfb8834",
        "ExecuteTime": {
          "end_time": "2024-05-05T03:47:39.457063400Z",
          "start_time": "2024-05-05T03:47:39.392579500Z"
        }
      },
      "outputs": [
        {
          "name": "stdout",
          "output_type": "stream",
          "text": [
            "[0, 0, 1, 0, 0, 0, 0, 0, 1, 0]\n"
          ]
        }
      ],
      "source": [
        "# Same row as above, but we want cells #5 and #7 (#6 is always set to 0),\n",
        "#  followed by column #8 from cell #0 in it to cell #7 (and skipping #6)\n",
        "# fec = []\n",
        "# fec.append(qr_cells_numeric[8, 5])\n",
        "# fec.append(qr_cells_numeric[8, 7])\n",
        "# fec.extend(qr_cells_numeric[0:6, 8])\n",
        "# fec.extend(qr_cells_numeric[7:9, 8])\n",
        "# fec = [int(not(c)) for c in fec]\n",
        "# print(fec)\n",
        "\n",
        "# We'll get #15, #14 from col 8 since #13 is always black\n",
        "# We'll also get row 8 from last col to col 13\n",
        "fec = []\n",
        "fec.append(qr_cells_numeric[15, 8])\n",
        "fec.append(qr_cells_numeric[14, 8])\n",
        "fec.extend(qr_cells_numeric[8, 13:21][::-1])  # Reverse to get from col 20 to col 13\n",
        "fec = [int(not(c)) for c in fec]\n",
        "print(fec)\n"
      ]
    },
    "id": "2-ZXn5NoRTTT",
    "outputId": "64344f96-1460-4c15-9daf-a6d75573f29f",
    "ExecuteTime": {
     "end_time": "2024-05-05T03:47:39.320402800Z",
     "start_time": "2024-05-05T03:47:34.591930Z"
    }
   },
   "outputs": [
    {
      "cell_type": "code",
      "execution_count": null,
      "metadata": {
        "colab": {
          "base_uri": "https://localhost:8080/"
        },
        "id": "WMKYiQA-qzbq",
        "outputId": "c46984d9-00fd-4dbc-9a41-7c05a937473c",
        "ExecuteTime": {
          "end_time": "2024-05-05T03:47:39.458064400Z",
          "start_time": "2024-05-05T03:47:39.406580100Z"
        }
      },
      "outputs": [
        {
          "name": "stdout",
          "output_type": "stream",
          "text": [
            "[1, 1] [0, 1, 1] [0, 0, 1, 0, 0, 0, 0, 0, 1, 0]\n"
          ]
        }
      ],
      "source": [
        "# So in total we have the following 15 bits of format info from our QR code\n",
        "print(ecl, mask, fec)"
      ]
    },
    "id": "6yyfDhQHW8Jz",
    "outputId": "f4e2d93e-70b5-422d-9da4-740d7c0df4b2",
    "ExecuteTime": {
     "end_time": "2024-05-05T03:47:39.330224400Z",
     "start_time": "2024-05-05T03:47:39.316018900Z"
    }
   },
   "outputs": [
    {
      "cell_type": "code",
      "execution_count": null,
      "metadata": {
        "colab": {
          "base_uri": "https://localhost:8080/",
          "height": 422
        },
        "id": "PQ0vjyjYbYij",
        "outputId": "5d260d41-1db9-4527-d235-ddc37ebe5ab8",
        "ExecuteTime": {
          "end_time": "2024-05-05T03:47:44.024696800Z",
          "start_time": "2024-05-05T03:47:39.438222400Z"
        }
      },
      "outputs": [
        {
          "data": {
            "text/plain": "<Figure size 500x500 with 441 Axes>",
            "image/png": "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"
          },
          "metadata": {},
          "output_type": "display_data"
        }
      ],
      "source": [
        "# Let's cross-check with our example\n",
        "# _, axes = plt.subplots(grid_cells_num, grid_cells_num, figsize=(5, 5))\n",
        "# for i, row in enumerate(axes):\n",
        "#     for j, col in enumerate(row):\n",
        "\n",
        "#         col.get_xaxis().set_visible(False)\n",
        "#         col.get_yaxis().set_visible(False)\n",
        "#         if (i == 8 and j <= 8) or (i <= 8 and j == 8):\n",
        "#             if (i != 6) and (j != 6):\n",
        "#                 col.imshow(corrected_qr[i][j], cmap=\"gray\", vmin=0, vmax=255)\n",
        "#                 col.spines[:].set_color('red')\n",
        "#                 continue\n",
        "#         col.imshow(corrected_qr[i][j], cmap=\"gray\", vmin=-1275, vmax=510)\n",
        "\n",
        "\n",
        "# Plot the new format info\n",
        "_, axes = plt.subplots(grid_cells_num, grid_cells_num, figsize=(5, 5))\n",
        "for i, row in enumerate(axes):\n",
        "    for j, col in enumerate(row):\n",
        "\n",
        "        col.get_xaxis().set_visible(False)\n",
        "        col.get_yaxis().set_visible(False)\n",
        "        if (i in range(15, grid_cells_num) and j == 8) or (i == 8 and j in range(14, grid_cells_num)):\n",
        "            col.imshow(corrected_qr[i][j], cmap=\"gray\", vmin=0, vmax=255)\n",
        "            col.spines[:].set_color('red')\n",
        "            continue\n",
        "        col.imshow(corrected_qr[i][j], cmap=\"gray\", vmin=-1275, vmax=510)"
      ]
    },
    "id": "3OQ3XYkQeW93",
    "outputId": "6d1caa40-b622-4f8a-ee03-58a94520c2f4",
    "ExecuteTime": {
     "end_time": "2024-05-05T03:47:39.368580800Z",
     "start_time": "2024-05-05T03:47:39.330224400Z"
    }
   },
   "outputs": [
    {
      "cell_type": "code",
      "execution_count": null,
      "metadata": {
        "colab": {
          "base_uri": "https://localhost:8080/"
        },
        "id": "8iLNLbZwcLG6",
        "outputId": "8ec9ebf5-9f91-4597-f307-9ac3359a789d",
        "ExecuteTime": {
          "end_time": "2024-05-05T03:47:44.059451500Z",
          "start_time": "2024-05-05T03:47:44.025687400Z"
        }
      },
      "outputs": [
        {
          "name": "stdout",
          "output_type": "stream",
          "text": [
            "[0, 1] [1, 1, 0] [0, 0, 1, 0, 0, 1, 0, 0, 0, 0]\n"
          ]
        }
      ],
      "source": [
        "# However..... You need to XOR that with the \"format mask\": 101010000010010\n",
        "ecl[0] ^= 1\n",
        "mask[0] ^= 1\n",
        "mask[2] ^= 1\n",
        "fec[5] ^= 1\n",
        "fec[8] ^= 1\n",
        "\n",
        "# And now we print...\n",
        "print(ecl, mask, fec)"
      ]
    },
    "id": "DftQienjiFdh",
    "outputId": "3e1adc35-499f-4da9-a0e0-89fd50e69442",
    "ExecuteTime": {
     "end_time": "2024-05-05T03:47:39.383580900Z",
     "start_time": "2024-05-05T03:47:39.362582100Z"
    }
   },
   "outputs": [
    {
     "name": "stdout",
     "output_type": "stream",
     "text": [
      "[1, 1]\n"
     ]
    }
   ],
   "source": [
    "# The last two bits determine the error correction level\n",
    "# Level L (Low)         [11]\t7%  of data bytes can be restored.\n",
    "# Level M (Medium)      [10]\t15% of data bytes can be restored.\n",
    "# Level Q (Quartile)    [01]\t25% of data bytes can be restored.\n",
    "# Level H (High)        [00]\t30% of data bytes can be restored.\n",
    "ecl = [int(not(c)) for c in qr_cells_numeric[19:21, 8]]  # We'll read the ecl from the bottom locator instead\n",
    "# Why \"not\"? Because the standard uses '1's for black and '0's for white\n",
    "#\n",
    "# \"A dark module is a binary one and a light module is a binary zero.\"\n",
    "#  - ISO/IEC 18004:2000(E)\n",
    "#\n",
    "# In image processing, we use them the other way.. Hence the inversion\n",
    "print(ecl)\n"
   ]
  },
  {
   "cell_type": "markdown",
   "metadata": {
    "id": "pHqp3VFJg4GK"
   },
   "source": [
    "### Mask pattern"
   ]
  },
  {
   "cell_type": "code",
   "execution_count": 419,
   "metadata": {
    "colab": {
     "base_uri": "https://localhost:8080/"
    },
    "id": "Km07iIWxg-gI",
    "outputId": "a8987460-6171-4329-8f5d-a66725bc6636",
    "ExecuteTime": {
     "end_time": "2024-05-05T03:47:39.427187300Z",
     "start_time": "2024-05-05T03:47:39.378601Z"
    }
   },
   "outputs": [
    {
      "cell_type": "code",
      "execution_count": null,
      "metadata": {
        "id": "TYeu5EEF22r6",
        "ExecuteTime": {
          "end_time": "2024-05-05T03:47:44.082820500Z",
          "start_time": "2024-05-05T03:47:44.043439300Z"
        }
      },
      "outputs": [],
      "source": [
        "# Before we proceed, let's write a function for masking to make our lives easier\n",
        "UP, UP_ENC, DOWN, CW, CCW = range(5)  # A rather old-fashioned pythonic \"Enum\"\n",
        "\n",
        "def apply_mask(data_start_i, data_start_j, direction):\n",
        "    '''\n",
        "    data_start_i/j represent the first cell's coords in its respective direction\n",
        "    direction is the masking direction, up(-enc)/down/clockwise/anti-clockwise\n",
        "    '''\n",
        "    result = []\n",
        "    row_offsets = []\n",
        "    col_offsets = []\n",
        "    if (direction in [UP, UP_ENC]):\n",
        "        row_offsets = [0,  0, -1, -1, -2, -2, -3, -3]\n",
        "        col_offsets = [0, -1,  0, -1,  0, -1,  0, -1]\n",
        "    if (direction == DOWN):\n",
        "        row_offsets = [0,  0,  1,  1,  2,  2,  3,  3]\n",
        "        col_offsets = [0, -1,  0, -1,  0, -1,  0, -1]\n",
        "    if (direction == CW):\n",
        "        row_offsets = [0,  0,  1,  1,  1,  1,  0,  0]\n",
        "        col_offsets = [0, -1,  0, -1, -2, -3, -2, -3]\n",
        "    if (direction == CCW):\n",
        "        row_offsets = [0,  0, -1, -1, -1, -1,  0,  0]\n",
        "        col_offsets = [0, -1,  0, -1, -2, -3, -2, -3]\n",
        "\n",
        "    for i, j in zip(row_offsets, col_offsets):\n",
        "        cell = qr_cells_numeric[data_start_i+i, data_start_j+j]\n",
        "        result.append(int(cell if MASKS[mask_str](data_start_i+i, data_start_j+j) else not cell))\n",
        "\n",
        "    return result[:4] if direction == UP_ENC else result"
      ]
    },
    "id": "d1uHpA5oXXeN",
    "outputId": "7c3ee987-9ff6-4321-c659-93498dfb8834",
    "ExecuteTime": {
     "end_time": "2024-05-05T03:47:39.457063400Z",
     "start_time": "2024-05-05T03:47:39.392579500Z"
    }
   },
   "outputs": [
    {
     "name": "stdout",
     "output_type": "stream",
     "text": [
      "[0, 0, 1, 0, 0, 0, 0, 0, 1, 0]\n"
     ]
    }
   ],
   "source": [
    "# Same row as above, but we want cells #5 and #7 (#6 is always set to 0),\n",
    "#  followed by column #8 from cell #0 in it to cell #7 (and skipping #6)\n",
    "# fec = []\n",
    "# fec.append(qr_cells_numeric[8, 5])\n",
    "# fec.append(qr_cells_numeric[8, 7])\n",
    "# fec.extend(qr_cells_numeric[0:6, 8])\n",
    "# fec.extend(qr_cells_numeric[7:9, 8])\n",
    "# fec = [int(not(c)) for c in fec]\n",
    "# print(fec)\n",
    "\n",
    "# We'll get #15, #14 from col 8 since #13 is always black\n",
    "# We'll also get row 8 from last col to col 13\n",
    "fec = []\n",
    "fec.append(qr_cells_numeric[15, 8])\n",
    "fec.append(qr_cells_numeric[14, 8])\n",
    "fec.extend(qr_cells_numeric[8, 13:21][::-1])  # Reverse to get from col 20 to col 13\n",
    "fec = [int(not(c)) for c in fec]\n",
    "print(fec)\n"
   ]
  },
  {
   "cell_type": "code",
   "execution_count": 421,
   "metadata": {
    "colab": {
     "base_uri": "https://localhost:8080/"
    },
    "id": "WMKYiQA-qzbq",
    "outputId": "c46984d9-00fd-4dbc-9a41-7c05a937473c",
    "ExecuteTime": {
     "end_time": "2024-05-05T03:47:39.458064400Z",
     "start_time": "2024-05-05T03:47:39.406580100Z"
    }
   },
   "outputs": [
    {
      "cell_type": "code",
      "execution_count": null,
      "metadata": {
        "colab": {
          "base_uri": "https://localhost:8080/"
        },
        "id": "sMKnJyYHhHKl",
        "outputId": "ceed0b6a-4f1b-4ff6-92b2-b22e2dfaacb7",
        "ExecuteTime": {
          "end_time": "2024-05-05T03:47:44.129236100Z",
          "start_time": "2024-05-05T03:47:44.054451700Z"
        }
      },
      "outputs": [
        {
          "name": "stdout",
          "output_type": "stream",
          "text": [
            "[0, 1, 0, 0]\n"
          ]
        }
      ],
      "source": [
        "enc = apply_mask(grid_cells_num-1, grid_cells_num-1, UP_ENC)\n",
        "print(enc)"
      ]
    },
    "id": "PQ0vjyjYbYij",
    "outputId": "5d260d41-1db9-4527-d235-ddc37ebe5ab8",
    "ExecuteTime": {
     "end_time": "2024-05-05T03:47:44.024696800Z",
     "start_time": "2024-05-05T03:47:39.438222400Z"
    }
   },
   "outputs": [
    {
      "cell_type": "markdown",
      "metadata": {
        "id": "_Es8SoZ02lct"
      },
      "source": [
        "### Data length"
      ]
    },
    "id": "8iLNLbZwcLG6",
    "outputId": "8ec9ebf5-9f91-4597-f307-9ac3359a789d",
    "ExecuteTime": {
     "end_time": "2024-05-05T03:47:44.059451500Z",
     "start_time": "2024-05-05T03:47:44.025687400Z"
    }
   },
   "outputs": [
    {
      "cell_type": "code",
      "execution_count": null,
      "metadata": {
        "colab": {
          "base_uri": "https://localhost:8080/"
        },
        "id": "JZ5ml6N02kC3",
        "outputId": "3d28b530-1dc4-439b-8eb8-f92b6611b9a6",
        "ExecuteTime": {
          "end_time": "2024-05-05T03:47:44.140152100Z",
          "start_time": "2024-05-05T03:47:44.085804400Z"
        }
      },
      "outputs": [
        {
          "name": "stdout",
          "output_type": "stream",
          "text": [
            "[0, 0, 0, 1, 0, 0, 0, 1]\n"
          ]
        }
      ],
      "source": [
        "length = apply_mask(grid_cells_num-3, grid_cells_num-1, UP)\n",
        "print(length)"
      ]
    },
    "id": "sMKnJyYHhHKl",
    "outputId": "ceed0b6a-4f1b-4ff6-92b2-b22e2dfaacb7",
    "ExecuteTime": {
     "end_time": "2024-05-05T03:47:44.129236100Z",
     "start_time": "2024-05-05T03:47:44.054451700Z"
    }
   },
   "outputs": [
    {
      "cell_type": "markdown",
      "metadata": {
        "id": "ugMlyRLEHX-V"
      },
      "source": [
        "### Data extraction"
      ]
    },
    "id": "JZ5ml6N02kC3",
    "outputId": "3d28b530-1dc4-439b-8eb8-f92b6611b9a6",
    "ExecuteTime": {
     "end_time": "2024-05-05T03:47:44.140152100Z",
     "start_time": "2024-05-05T03:47:44.085804400Z"
    }
   },
   "outputs": [
    {
      "cell_type": "code",
      "execution_count": null,
      "metadata": {
        "colab": {
          "base_uri": "https://localhost:8080/"
        },
        "id": "2C9MtuNJHY0m",
        "outputId": "b96e9173-73da-4e16-de4c-192c97b09838",
        "ExecuteTime": {
          "end_time": "2024-05-05T03:47:44.141115500Z",
          "start_time": "2024-05-05T03:47:44.104188100Z"
        }
      },
      "outputs": [
        {
          "name": "stdout",
          "output_type": "stream",
          "text": [
            "00110001 = 1\n",
            "01110001 = q\n",
            "01100001 = a\n",
            "01111010 = z\n",
            "00100001 = !\n",
            "01010001 = Q\n",
            "01000001 = A\n",
            "01011010 = Z\n",
            "01000000 = @\n",
            "01010111 = W\n",
            "01010011 = S\n",
            "01011000 = X\n",
            "00101111 = /\n",
            "01011100 = \\\n",
            "00100111 = '\n",
            "01011011 = [\n",
            "01011101 = ]\n",
            "0000 = 0 (NULL TERMINATOR)\n",
            "\n",
            "Decoded string: 1qaz!QAZ@WSX/\\'[]\n"
          ]
        }
      ],
      "source": [
        "#result\n",
        "\n",
        "data_starting_indices = [\n",
        "    [grid_cells_num-7,  grid_cells_num-1,  UP],    #    w    /     H\n",
        "    [grid_cells_num-11, grid_cells_num-1,  CCW],   #    w    /     e\n",
        "    [grid_cells_num-10, grid_cells_num-3,  DOWN],  #    w    /     l\n",
        "    [grid_cells_num-6,  grid_cells_num-3,  DOWN],  #    .    /     l\n",
        "    [grid_cells_num-2,  grid_cells_num-3,  CW],    #    w    /     o\n",
        "    [grid_cells_num-3,  grid_cells_num-5,  UP],    #    i    /     ,\n",
        "    [grid_cells_num-7,  grid_cells_num-5,  UP],    #    k    /  (space)\n",
        "    [grid_cells_num-11, grid_cells_num-5,  CCW],   #    i    /     Q\n",
        "    [grid_cells_num-10, grid_cells_num-7,  DOWN],  #    p    /     R\n",
        "    [grid_cells_num-6,  grid_cells_num-7,  DOWN],  #    e    /  (space)\n",
        "    [grid_cells_num-2,  grid_cells_num-7,  CW],    #    d    /     W\n",
        "    [grid_cells_num-3,  grid_cells_num-9,  UP],    #    i    /     o\n",
        "    [grid_cells_num-7,  grid_cells_num-9,  UP],    #    a    /     r\n",
        "    [grid_cells_num-11, grid_cells_num-9,  UP],    #    .    /     l\n",
        "    [grid_cells_num-16, grid_cells_num-9,  UP],    #    o    /     d\n",
        "    [grid_cells_num-20, grid_cells_num-9,  CCW],   #    r    /     !\n",
        "    [grid_cells_num-19, grid_cells_num-11, DOWN],  #    g    /     1\n",
        "    [grid_cells_num-14, grid_cells_num-11, DOWN],  # End of message (Terminator)\n",
        "    [grid_cells_num-12, grid_cells_num-11, DOWN],  # E1\n",
        "    [grid_cells_num-8,  grid_cells_num-11, DOWN],  # E2\n",
        "    [grid_cells_num-4,  grid_cells_num-11, DOWN],  # E3\n",
        "    [grid_cells_num-9,  grid_cells_num-13, UP],    # E4\n",
        "    [grid_cells_num-12, grid_cells_num-16, DOWN],  # E5\n",
        "    [grid_cells_num-9,  grid_cells_num-18, UP],    # E6\n",
        "    [grid_cells_num-12, grid_cells_num-20, DOWN],  # E7\n",
        "]\n",
        "\n",
        "message_bits = []\n",
        "message_bits.extend(enc)\n",
        "message_bits.extend(length)\n",
        "extracted_data_no_error_correction = ''\n",
        "for a, b, d in data_starting_indices:  # For each starting index and direction\n",
        "    bits = apply_mask(a, b, d)  # Extract the bits per the indexed QR code symbol\n",
        "    bit_string = ''.join([str(bit) for bit in bits])  # Convert to string of bits\n",
        "    alpha_char = chr(int(bit_string, 2))  # Convert binary to int, then to a char\n",
        "    if bit_string[:4] == \"0000\":  # If the first 4 bits are 0s, this is the END\n",
        "        print(f'{bit_string[:4]}...         = NULL TERMINATOR (END Symbol, SKIP!)')\n",
        "        message_bits.extend(bits[:4])  # Append only the four bits\n",
        "    else:  # If not the END symbol, append full set of bits\n",
        "        message_bits.extend(bits)\n",
        "        extracted_data_no_error_correction += alpha_char\n",
        "    print(f'{bit_string} (={int(bit_string, 2):03d}) = {alpha_char}')\n",
        "\n",
        "print(f'\\ni.e., the data and ECCs in the QR code as-is are \"{extracted_data_no_error_correction}\"')\n",
        "\n",
        "# use the reedsolo library to decode the message and correct any errors\n",
        "# For every 8 bits in the extracted message, convert to a byte\n",
        "extracted_data_bytes = [int(''.join([str(bit) for bit in message_bits[i:i+8]]), 2) for i in range(0, len(message_bits), 8)]\n",
        "reed_solomon = rs.RSCodec(nsym=10) # Create a Reed-Solomon codec object with 7 error correction bytes\n",
        "print(f'\\nDecoding the message using Reed-Solomon error correction...')\n",
        "try:\n",
        "    decoded_data_bytes = reed_solomon.decode(extracted_data_bytes)  # Decode the message\n",
        "    decoded_data = ''.join([chr(byte) for byte in decoded_data_bytes])  # Convert bytes to characters\n",
        "    print(f'The decoded message is: \"{decoded_data}\"')\n",
        "except rs.ReedSolomonError as e:\n",
        "    print(f'Error decoding the message: {str(e)}')\n",
        ""
      ]
    },
    {
      "cell_type": "code",
      "source": [
        "\n",
        "# Extract data without error correction\n",
        "extracted_data_no_error_correction = \"\"\n",
        "message_bits = []\n",
        "\n",
        "# Loop through data starting indices and apply mask\n",
        "for a, b, d in data_starting_indices:\n",
        "    bits = apply_mask(a, b, d)\n",
        "    bit_string = ''.join([str(bit) for bit in bits])\n",
        "    alpha_char = chr(int(bit_string, 2))\n",
        "    if bit_string[:4] == \"0000\":\n",
        "        message_bits.extend(bits[:4])\n",
        "    else:\n",
        "        message_bits.extend(bits)\n",
        "        extracted_data_no_error_correction += alpha_char\n",
        "\n",
        "# Decode Reed-Solomon for error correction\n",
        "message_bytes = [int(\"\".join(map(str, message_bits[i:i+8])), 2) for i in range(0, len(message_bits), 8)]\n",
        "rsc = rs.RSCodec(nsym=12)  # Initialize Reed-Solomon codec with appropriate parameters\n",
        "corrected_message_bytes = rsc.decode(message_bytes)[0]\n",
        "\n",
        "# Convert bytes to string\n",
        "corrected_data = corrected_message_bytes.decode(encoding=\"iso-8859-1\")\n",
        "\n",
        "# Print or use corrected data as needed\n",
        "print(\"Corrected data:\", corrected_data)"
      ],
      "metadata": {
        "id": "z1DiSxEQ8Z5p"
      },
      "execution_count": null,
      "outputs": []
    }
  ],
  "metadata": {
    "colab": {
      "provenance": []
    },
    "kernelspec": {
      "display_name": "Python 3 (ipykernel)",
      "language": "python",
      "name": "python3"
    },
    "language_info": {
      "codemirror_mode": {
        "name": "ipython",
        "version": 3
      },
      "file_extension": ".py",
      "mimetype": "text/x-python",
      "name": "python",
      "nbconvert_exporter": "python",
      "pygments_lexer": "ipython3",
      "version": "3.11.3"
    }
   },
   "outputs": [
    {
     "name": "stdout",
     "output_type": "stream",
     "text": [
      "00110001 = 1\n",
      "01110001 = q\n",
      "01100001 = a\n",
      "01111010 = z\n",
      "00100001 = !\n",
      "01010001 = Q\n",
      "01000001 = A\n",
      "01011010 = Z\n",
      "01000000 = @\n",
      "01010111 = W\n",
      "01010011 = S\n",
      "01011000 = X\n",
      "00101111 = /\n",
      "01011100 = \\\n",
      "00100111 = '\n",
      "01011011 = [\n",
      "01011101 = ]\n",
      "0000 = 0 (NULL TERMINATOR)\n",
      "\n",
      "Decoded string: 1qaz!QAZ@WSX/\\'[]\n"
     ]
    }
   ],
   "source": [
    "#result\n",
    "data_starting_indices = [\n",
    "    [grid_cells_num-7, grid_cells_num-1, UP],\n",
    "    [grid_cells_num-11, grid_cells_num-1, CCW],\n",
    "    [grid_cells_num-10, grid_cells_num-3, DOWN],\n",
    "    [grid_cells_num-6, grid_cells_num-3, DOWN],\n",
    "    [grid_cells_num-2, grid_cells_num-3, CW],\n",
    "    [grid_cells_num-3, grid_cells_num-5, UP],\n",
    "    [grid_cells_num-7, grid_cells_num-5, UP],\n",
    "    [grid_cells_num-11, grid_cells_num-5, CCW],\n",
    "    [grid_cells_num-10, grid_cells_num-7, DOWN],\n",
    "    [grid_cells_num-6, grid_cells_num-7, DOWN],\n",
    "    [grid_cells_num-2, grid_cells_num-7, CW],\n",
    "    [grid_cells_num-3, grid_cells_num-9, UP],\n",
    "    [grid_cells_num-7, grid_cells_num-9, UP],\n",
    "    [grid_cells_num-11, grid_cells_num-9, UP],\n",
    "    [grid_cells_num-16, grid_cells_num-9, UP],\n",
    "    [grid_cells_num-20, grid_cells_num-9, CCW],\n",
    "    [grid_cells_num-19, grid_cells_num-11, DOWN],\n",
    "    [grid_cells_num-14, grid_cells_num-11, DOWN],\n",
    "    [grid_cells_num-12, grid_cells_num-11, DOWN],\n",
    "    [grid_cells_num-8, grid_cells_num-11, DOWN], # this is E2\n",
    "    [grid_cells_num-4, grid_cells_num-11, DOWN], # e3\n",
    "    [grid_cells_num-12, grid_cells_num-13, UP], # e4\n",
    "    [grid_cells_num-12, grid_cells_num-16, DOWN], #e5\n",
    "    [grid_cells_num-12, grid_cells_num-18, UP], #e6\n",
    "    [grid_cells_num-12, grid_cells_num-20, DOWN] #e7\n",
    "\n",
    "\n",
    "]\n",
    "# array 3la b3dha\n",
    "# check 3la el enc\n",
    "# check 3la el length\n",
    "# 7wl mn bin le alpha\n",
    "ans = ''\n",
    "for a, b, d in data_starting_indices:\n",
    "    bits = apply_mask(a, b, d)\n",
    "    bit_string = ''.join([str(bit) for bit in bits])\n",
    "    if bit_string[:4] == \"0000\":\n",
    "        print(f'{bit_string[:4]} = 0 (NULL TERMINATOR)')\n",
    "        break\n",
    "    ans += chr(int(bit_string, 2)) # converts to binary to int, then to ASCII\n",
    "    print(f'{bit_string} = {ans[-1]}')\n",
    "\n",
    "print(f'\\nDecoded string: {ans}')"
   ]
  }
 ],
 "metadata": {
  "colab": {
   "provenance": []
  },
  "kernelspec": {
   "display_name": "Python 3 (ipykernel)",
   "language": "python",
   "name": "python3"
  },
  "language_info": {
   "codemirror_mode": {
    "name": "ipython",
    "version": 3
   },
   "file_extension": ".py",
   "mimetype": "text/x-python",
   "name": "python",
   "nbconvert_exporter": "python",
   "pygments_lexer": "ipython3",
   "version": "3.11.3"
  }
 },
 "nbformat": 4,
 "nbformat_minor": 0
}
